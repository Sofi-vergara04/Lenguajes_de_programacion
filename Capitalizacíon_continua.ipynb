{
  "nbformat": 4,
  "nbformat_minor": 0,
  "metadata": {
    "colab": {
      "provenance": []
    },
    "kernelspec": {
      "name": "python3",
      "display_name": "Python 3"
    },
    "language_info": {
      "name": "python"
    }
  },
  "cells": [
    {
      "cell_type": "markdown",
      "source": [
        "#__Capitalización continua__\n",
        "##_¿Qué es?_\n",
        "La capitalización continua es un método de cálculo de interés donde el capital crece de manera exponencial continua, en contraste con la capitalización discreta que ocurre en intervalos específicos (anual, mensual, diario, etc.).\n",
        "___\n",
        "##_Fórmula_\n",
        "$$A = Pe^{(rt)}$$\n",
        "\n",
        "###Explicación fórmula\n",
        "- __A__: representa el monto final o valor futuro\n",
        "- __P__: representa el principal o capital inicial\n",
        "- __e__: es la constante matemática (aproximadamente 2.71828), base de los logaritmos naturales\n",
        "- __r__: es la tasa de interés (en forma decimal)\n",
        "- __t__: es el tiempo (generalmente expresado en años)\n",
        "___\n",
        "\n",
        "##_¿Como calcular la capitalización continua?_\n",
        "1. Se identifica el capital inicial (P) que se va a invertir o sobre el cual se calculará el interés\n",
        "2. Se determina la tasa de interés anual (r) y se expresa en forma decimal\n",
        "3. Se establece el período de tiempo (t) durante el cual se aplicará la capitalización\n",
        "4. Se calcula el exponente multiplicando la tasa de interés por el tiempo (r×t)\n",
        "5. Se eleva el número e al exponente calculado (e^(rt))\n",
        "6. Se multiplica el capital inicial por el resultado anterior (P × e^(rt))\n",
        "7. El resultado final es el monto acumulado tras la capitalización continua (A)\n",
        "___\n",
        "\n",
        "##Representación\n",
        "![Capitalización continua](https://economipedia.com/wp-content/uploads/Capitalizaci%C3%B3n-continua-1024x1024.png)\n",
        "\n",
        "##Fuente\n",
        "https://fastercapital.com/es/contenido/Valor-actual--valor-presente-y-capitalizacion-continua--calculo-de-la-fortuna-actual.html\n",
        "\n",
        "\n"
      ],
      "metadata": {
        "id": "nczKDHMJx5KG"
      }
    },
    {
      "cell_type": "markdown",
      "source": [
        "##Ejercicio capitalizacion continua\n",
        "Imaginemos que tenemos una cuenta de ahorro que ofrece una tasa de interés anual del 5% con capitalización continua. Si invertimos 10.000 al principio del año, ¿cuál sería el saldo al final del año?\n"
      ],
      "metadata": {
        "id": "SCyEl7pop-x-"
      }
    },
    {
      "cell_type": "code",
      "source": [
        "P=10000\n",
        "e=2.7182\n",
        "r=0.05\n",
        "t=1\n"
      ],
      "metadata": {
        "id": "8yB88O2C4SC1"
      },
      "execution_count": null,
      "outputs": []
    },
    {
      "cell_type": "code",
      "source": [
        "A=P*e**(r*t)\n",
        "mensaje= f\"el monto para la capitalizacion continua de su inversion es: ${A:,.2f}\"\n",
        "print(mensaje)"
      ],
      "metadata": {
        "colab": {
          "base_uri": "https://localhost:8080/"
        },
        "id": "UJ-cc_DjrB0U",
        "outputId": "35d1aaa9-8c17-4ac2-f15d-29c1a5c4f2a9"
      },
      "execution_count": null,
      "outputs": [
        {
          "output_type": "stream",
          "name": "stdout",
          "text": [
            "el monto para la capitalizacion continua de su inversion es: $10,512.70\n"
          ]
        }
      ]
    },
    {
      "cell_type": "code",
      "source": [
        "\n",
        "if A > P:\n",
        "  mensaje2=f\"su inversion generó un rendimiento de: ${A-P:,.2f}\"\n",
        "  print(mensaje2)\n",
        "else:\n",
        "  print(\"su inversion no generó rendimiento\")"
      ],
      "metadata": {
        "colab": {
          "base_uri": "https://localhost:8080/"
        },
        "id": "DdNCp50Zsvly",
        "outputId": "6754b265-7afc-4b60-8a75-60fca79447bb"
      },
      "execution_count": null,
      "outputs": [
        {
          "output_type": "stream",
          "name": "stdout",
          "text": [
            "su inversion generó un rendimiento de: $512.70\n"
          ]
        }
      ]
    }
  ]
}