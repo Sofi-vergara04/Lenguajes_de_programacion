{
  "nbformat": 4,
  "nbformat_minor": 0,
  "metadata": {
    "colab": {
      "provenance": []
    },
    "kernelspec": {
      "name": "python3",
      "display_name": "Python 3"
    },
    "language_info": {
      "name": "python"
    }
  },
  "cells": [
    {
      "cell_type": "markdown",
      "source": [
        "#Taller Evaluativo (20%) - Gestión de Portafolios Financieros"
      ],
      "metadata": {
        "id": "m-JQZYX7-H3r"
      }
    },
    {
      "cell_type": "markdown",
      "source": [
        "###Parte 1: Declaración de Variables y Listas\n",
        "\n",
        "\n",
        "\n"
      ],
      "metadata": {
        "id": "XHq7uIz4qVc-"
      }
    },
    {
      "cell_type": "markdown",
      "source": [
        "1.1 Datos de Inversión Inicial\n",
        "La empresa ha recopilado los siguientes datos sobre cuatro clientes:\n",
        "\n",
        "Clientes: Juan Perez, Maria Rodriguez, Carlos Lopez, Ana Gomez\n",
        "___\n",
        "Montos invertidos (en dólares): 10000, 15000, 20000, 18000\n",
        "___\n",
        "Rendimientos anuales (%): 5.5, 6.0, 4.0, 7.5"
      ],
      "metadata": {
        "id": "YO1X_9VdrE2v"
      }
    },
    {
      "cell_type": "code",
      "execution_count": null,
      "metadata": {
        "colab": {
          "base_uri": "https://localhost:8080/"
        },
        "id": "zGnDhqEWqS8y",
        "outputId": "72bed59b-670b-4fd0-dd55-deedaee74c93"
      },
      "outputs": [
        {
          "output_type": "stream",
          "name": "stdout",
          "text": [
            "['Juan Perez', 'Maria Rodriguez', 'Carlos Lopez', 'Ana Gomez']\n",
            "[10000, 15000, 20000, 18000]\n",
            "[5.5, 6.0, 4.0, 7.5]\n"
          ]
        }
      ],
      "source": [
        "#Creación de listas\n",
        "clientes=[\"Juan Perez\",\"Maria Rodriguez\",\"Carlos Lopez\",\"Ana Gomez\"]\n",
        "print(clientes)\n",
        "montos_invertidos=[10000,15000,20000,18000]\n",
        "print(montos_invertidos)\n",
        "rendimientos_anuales=[5.5,6.0,4.0,7.5]\n",
        "print(rendimientos_anuales)"
      ]
    },
    {
      "cell_type": "markdown",
      "source": [
        "1.2 Crear Tuplas para Almacenar la Información\n",
        "\n",
        "Crea una tupla para cada cliente que contenga su nombre, monto invertido y rendimiento."
      ],
      "metadata": {
        "id": "1R-PIkzVr99d"
      }
    },
    {
      "cell_type": "code",
      "source": [
        "cliente_1=(\"Juan Perez\",10000,5.5)\n",
        "cliente_2=(\"Maria Rodriguez\",15000,6.0)\n",
        "cliente_3=(\"Carlos Lopez\",20000,4.0)\n",
        "cliente_4=(\"Ana Gomez\",18000,7.5)\n",
        "print(cliente_1)\n",
        "print(cliente_2)\n",
        "print(cliente_3)\n",
        "print(cliente_4)\n"
      ],
      "metadata": {
        "colab": {
          "base_uri": "https://localhost:8080/"
        },
        "id": "NFbvXOjCsHjs",
        "outputId": "ad242f9f-be37-4c2f-ea27-8eb4828c88a4"
      },
      "execution_count": null,
      "outputs": [
        {
          "output_type": "stream",
          "name": "stdout",
          "text": [
            "('Juan Perez', 10000, 5.5)\n",
            "('Maria Rodriguez', 15000, 6.0)\n",
            "('Carlos Lopez', 20000, 4.0)\n",
            "('Ana Gomez', 18000, 7.5)\n"
          ]
        }
      ]
    },
    {
      "cell_type": "markdown",
      "source": [
        "###Parte 2: Uso de Diccionarios y Condicionales"
      ],
      "metadata": {
        "id": "uySfGNJJs_jp"
      }
    },
    {
      "cell_type": "markdown",
      "source": [
        "2.1 Almacenar los Datos en un Diccionario\n",
        "\n",
        "Almacena los datos de los clientes en un diccionario llamado portafolio. En este diccionario, cada clave debe ser el nombre del cliente, y cada valor será un diccionario que contenga el monto_invertido y el rendimiento."
      ],
      "metadata": {
        "id": "lCieABBDs5KF"
      }
    },
    {
      "cell_type": "code",
      "source": [
        "# Creacion de diccionarios\n",
        "portafolio = {\n",
        "\"Juan Perez\": {\"monto_invertido\": 10000, \"rendimiento\": 5.5},\n",
        "\"Maria Rodriguez\": {\"monto_invertido\": 15000, \"rendimiento\": 6.0},\n",
        "\"Carlos Lopez\": {\"monto_invertido\": 20000, \"rendimiento\": 4.0},\n",
        "\"Ana Gomez\": {\"monto_invertido\": 18000, \"rendimiento\": 7.5}\n",
        "}\n",
        "for n, d in portafolio.items():\n",
        "    print(f\"-{n}: {d}\")"
      ],
      "metadata": {
        "colab": {
          "base_uri": "https://localhost:8080/"
        },
        "id": "w03gYRAytJUu",
        "outputId": "522a7acb-3f4c-424e-9ada-f89b385bec12"
      },
      "execution_count": null,
      "outputs": [
        {
          "output_type": "stream",
          "name": "stdout",
          "text": [
            "-Juan Perez: {'monto_invertido': 10000, 'rendimiento': 5.5}\n",
            "-Maria Rodriguez: {'monto_invertido': 15000, 'rendimiento': 6.0}\n",
            "-Carlos Lopez: {'monto_invertido': 20000, 'rendimiento': 4.0}\n",
            "-Ana Gomez: {'monto_invertido': 18000, 'rendimiento': 7.5}\n"
          ]
        }
      ]
    },
    {
      "cell_type": "markdown",
      "source": [
        "2.2 Evaluación del Rendimiento de los Clientes\n",
        "\n",
        "La empresa quiere identificar qué clientes han tenido un rendimiento superior al 5%."
      ],
      "metadata": {
        "id": "xcEYu9c5uEWW"
      }
    },
    {
      "cell_type": "code",
      "source": [
        "\n",
        "for cliente, datos in portafolio.items():\n",
        "    if datos[\"rendimiento\"] > 5:\n",
        "        print(f\"-{cliente} tiene un rendimiento de {datos['rendimiento']}%\")\n",
        "    elif datos[\"rendimiento\"] < 5:\n",
        "      print(f\"-{cliente} tiene un rendimiento menor al requerido\")\n"
      ],
      "metadata": {
        "colab": {
          "base_uri": "https://localhost:8080/"
        },
        "id": "TFtT8HbRuP3c",
        "outputId": "ea69a490-c0a1-4116-9432-00be9c6562ae"
      },
      "execution_count": null,
      "outputs": [
        {
          "output_type": "stream",
          "name": "stdout",
          "text": [
            "-Juan Perez tiene un rendimiento de 5.5%\n",
            "-Maria Rodriguez tiene un rendimiento de 6.0%\n",
            "-Carlos Lopez tiene un rendimiento menor al requerido\n",
            "-Ana Gomez tiene un rendimiento de 7.5%\n"
          ]
        }
      ]
    },
    {
      "cell_type": "markdown",
      "source": [
        "###Parte 3: Cálculos con ciclos\n"
      ],
      "metadata": {
        "id": "JFQgxGyGwdRF"
      }
    },
    {
      "cell_type": "markdown",
      "source": [
        "3.1 Calcular el Rendimiento Total del Portafolio\n",
        "\n",
        "La empresa desea calcular el rendimiento total del portafolio, que se define como la suma de todos los rendimientos en dólares."
      ],
      "metadata": {
        "id": "JeVbfeavwko3"
      }
    },
    {
      "cell_type": "code",
      "source": [
        "rendimiento_total = 0 ##para almacenar rendimiento\n",
        "\n",
        "for cliente, datos in portafolio.items():\n",
        "    monto_invertido = datos[\"monto_invertido\"]\n",
        "    rendimiento_porcentual = datos[\"rendimiento\"]\n",
        "    rendimiento_dolares = monto_invertido * (rendimiento_porcentual / 100)  # Convertir porcentaje a decimal\n",
        "    rendimiento_total += rendimiento_dolares\n",
        "\n",
        "print(f\"El rendimiento total del portafolio es: ${rendimiento_total:,.0f}\")"
      ],
      "metadata": {
        "colab": {
          "base_uri": "https://localhost:8080/"
        },
        "id": "PDPCvOJAxoB9",
        "outputId": "41387482-bcd0-4a65-c476-77daf62f1639"
      },
      "execution_count": null,
      "outputs": [
        {
          "output_type": "stream",
          "name": "stdout",
          "text": [
            "El rendimiento total del portafolio es: $3,600\n"
          ]
        }
      ]
    },
    {
      "cell_type": "markdown",
      "source": [
        "3.2 Identificar al Cliente con Mayor Rendimiento\n",
        "\n",
        "La empresa necesita saber qué cliente ha obtenido el mayor rendimiento en términos absolutos."
      ],
      "metadata": {
        "id": "AMGdmF2Gy2hA"
      }
    },
    {
      "cell_type": "code",
      "source": [
        "mayor_rendimiento = 0\n",
        "cliente_mayor_rendimiento = \"\"\n",
        "\n",
        "for cliente, datos in portafolio.items():\n",
        "    rendimiento_dolares = datos[\"monto_invertido\"] * (datos[\"rendimiento\"] / 100)  # Convertir porcentaje a decimal\n",
        "\n",
        "    if rendimiento_dolares > mayor_rendimiento:\n",
        "        mayor_rendimiento = rendimiento_dolares\n",
        "        cliente_mayor_rendimiento = cliente\n",
        "\n",
        "print(f\"{cliente_mayor_rendimiento} es el cliente con mayor rendimiento. Su rendimiento es de ${mayor_rendimiento:,.0f}\")\n",
        "\n"
      ],
      "metadata": {
        "colab": {
          "base_uri": "https://localhost:8080/"
        },
        "id": "y_oOYFS5y-xk",
        "outputId": "d4a9676e-7c11-4f16-f90e-b4a16f151428"
      },
      "execution_count": null,
      "outputs": [
        {
          "output_type": "stream",
          "name": "stdout",
          "text": [
            "Ana Gomez es el cliente con mayor rendimiento. Su rendimiento es de $1,350\n"
          ]
        }
      ]
    },
    {
      "cell_type": "markdown",
      "source": [
        "###Parte 4: Modificaciones del Portafolio\n"
      ],
      "metadata": {
        "id": "026tPhTY1WK6"
      }
    },
    {
      "cell_type": "markdown",
      "source": [
        "\n",
        "4.1 Actualizar el Monto Invertido de un Cliente\n",
        "\n",
        "\"Carlos Lopez\" ha decidido aumentar su inversión a 25,000 dólares.\n",
        "\n"
      ],
      "metadata": {
        "id": "RTEDKVnO1Iof"
      }
    },
    {
      "cell_type": "code",
      "source": [
        "portafolio[\"Carlos Lopez\"][\"monto_invertido\"] = 25000\n",
        "print(\"-Monto invertido de Carlos Lopez actualizado:\", portafolio[\"Carlos Lopez\"])\n",
        "print(\"El portafolio queda de la siguiente manera:\")\n",
        "for n, d in portafolio.items():\n",
        "    print(f\"-'{n}': {d}\")\n"
      ],
      "metadata": {
        "colab": {
          "base_uri": "https://localhost:8080/"
        },
        "id": "Dln98vwK1cmi",
        "outputId": "533c4d2d-156c-428c-8c5e-650967fdf166"
      },
      "execution_count": null,
      "outputs": [
        {
          "output_type": "stream",
          "name": "stdout",
          "text": [
            "-Monto invertido de Carlos Lopez actualizado: {'monto_invertido': 25000, 'rendimiento': 4.0}\n",
            "El portafolio queda de la siguiente manera:\n",
            "-'Juan Perez': {'monto_invertido': 10000, 'rendimiento': 5.5}\n",
            "-'Maria Rodriguez': {'monto_invertido': 15000, 'rendimiento': 6.0}\n",
            "-'Carlos Lopez': {'monto_invertido': 25000, 'rendimiento': 4.0}\n",
            "-'Ana Gomez': {'monto_invertido': 18000, 'rendimiento': 7.5}\n"
          ]
        }
      ]
    },
    {
      "cell_type": "markdown",
      "source": [
        "4.2 Añadir un Nuevo Cliente al Portafolio\n",
        "\n",
        "Un nuevo cliente, \"Laura Fernandez\", ha decidido invertir 22,000 dólares con un rendimiento del 6.8%."
      ],
      "metadata": {
        "id": "7_vgFC793FsM"
      }
    },
    {
      "cell_type": "code",
      "source": [
        "\n",
        "\n",
        "portafolio[\"Laura Fernandez\"] = {\n",
        "    \"monto_invertido\": 22000,\n",
        "    \"rendimiento_obtenido\": 6.8\n",
        "}\n",
        "print(r\"Laura Fernandez añadida:\", portafolio[\"Laura Fernandez\"])\n",
        "print(\"El portafolio queda con los siguientes clientes:\")\n",
        "for n, d in portafolio.items():\n",
        "    print(f\"'{n}': {d}\")"
      ],
      "metadata": {
        "colab": {
          "base_uri": "https://localhost:8080/"
        },
        "id": "d9BgUrvi3Bp2",
        "outputId": "6b6f04bf-83cf-4ea9-98a0-1dfb2e2f4256"
      },
      "execution_count": null,
      "outputs": [
        {
          "output_type": "stream",
          "name": "stdout",
          "text": [
            "Laura Fernandez añadida: {'monto_invertido': 22000, 'rendimiento_obtenido': 6.8}\n",
            "El portafolio queda con los siguientes clientes:\n",
            "'Juan Perez': {'monto_invertido': 10000, 'rendimiento': 5.5}\n",
            "'Maria Rodriguez': {'monto_invertido': 15000, 'rendimiento': 6.0}\n",
            "'Carlos Lopez': {'monto_invertido': 25000, 'rendimiento': 4.0}\n",
            "'Ana Gomez': {'monto_invertido': 18000, 'rendimiento': 7.5}\n",
            "'Laura Fernandez': {'monto_invertido': 22000, 'rendimiento_obtenido': 6.8}\n"
          ]
        }
      ]
    },
    {
      "cell_type": "markdown",
      "source": [
        "4.3 Remover a un Cliente del Portafolio\n",
        "\"Ana Gomez\" ha decidido retirar su inversión."
      ],
      "metadata": {
        "id": "VNKAwfTw4Pew"
      }
    },
    {
      "cell_type": "code",
      "source": [
        "portafolio.pop(\"Ana Gomez\")\n",
        "\n",
        "print(\"El portafolio queda con los siguientes clientes:\")\n",
        "for n, d in portafolio.items():\n",
        "    print(f\"'{n}': {d}\")\n"
      ],
      "metadata": {
        "colab": {
          "base_uri": "https://localhost:8080/"
        },
        "id": "L5KXYYiI4R52",
        "outputId": "7f194fe7-e766-4652-d7c1-7bdd96ff6526"
      },
      "execution_count": null,
      "outputs": [
        {
          "output_type": "stream",
          "name": "stdout",
          "text": [
            "El portafolio queda con los siguientes clientes:\n",
            "'Juan Perez': {'monto_invertido': 10000, 'rendimiento': 5.5}\n",
            "'Maria Rodriguez': {'monto_invertido': 15000, 'rendimiento': 6.0}\n",
            "'Carlos Lopez': {'monto_invertido': 25000, 'rendimiento': 4.0}\n",
            "'Laura Fernandez': {'monto_invertido': 22000, 'rendimiento_obtenido': 6.8}\n"
          ]
        }
      ]
    }
  ]
}