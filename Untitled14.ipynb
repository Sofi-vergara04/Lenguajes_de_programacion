{
  "nbformat": 4,
  "nbformat_minor": 0,
  "metadata": {
    "colab": {
      "provenance": []
    },
    "kernelspec": {
      "name": "python3",
      "display_name": "Python 3"
    },
    "language_info": {
      "name": "python"
    }
  },
  "cells": [
    {
      "cell_type": "markdown",
      "source": [
        "###ACTIVIDAD FUNCIONES"
      ],
      "metadata": {
        "id": "kcCOReS9QVW0"
      }
    },
    {
      "cell_type": "markdown",
      "source": [
        "####Ejercio 1"
      ],
      "metadata": {
        "id": "1O442PSCQa7J"
      }
    },
    {
      "cell_type": "code",
      "source": [
        "banano = {\n",
        "    \"tamano_porcion\":28, # En gramos\n",
        "    \"calorias\":94.1, # En KiloCalorías\n",
        "    \"grasa\":300, # En miligramos\n",
        "    \"sodio\":1.96, # En miligramos\n",
        "    \"azucar\":16, # En gramos\n",
        "    \"fibra\":0.504 # En gramos\n",
        "}"
      ],
      "metadata": {
        "id": "GqlbTBlIRD_m"
      },
      "execution_count": null,
      "outputs": []
    },
    {
      "cell_type": "code",
      "source": [
        "tomate = {\n",
        "    \"tamano_porcion\":125,\n",
        "    \"calorias\":22.5,\n",
        "    \"grasa\":250,\n",
        "    \"sodio\":6.25,\n",
        "    \"azucar\":3.29,\n",
        "    \"fibra\":1.5\n",
        "}\n",
        "\n",
        "if tomate[\"calorias\"] < 5:\n",
        "    etiqueta_calorias = \"SIN CALORÍAS\"\n",
        "elif tomate[\"calorias\"] < 40:\n",
        "    etiqueta_calorias = \"BAJO EN CALORÍAS\"\n",
        "else:\n",
        "    etiqueta_calorias = None\n",
        "\n",
        "print(etiqueta_calorias)"
      ],
      "metadata": {
        "colab": {
          "base_uri": "https://localhost:8080/"
        },
        "id": "H3r7FWyUQi8p",
        "outputId": "8e5f257e-9015-43f8-f8e6-e0c646202e7c"
      },
      "execution_count": null,
      "outputs": [
        {
          "output_type": "stream",
          "name": "stdout",
          "text": [
            "BAJO EN CALORÍAS\n"
          ]
        }
      ]
    },
    {
      "cell_type": "markdown",
      "source": [
        "####Ejercicio 2"
      ],
      "metadata": {
        "id": "UafyipS2Q3ZN"
      }
    },
    {
      "cell_type": "code",
      "source": [
        "def asignar_etiquetas_calorias(alimento):\n",
        "    if alimento[\"calorias\"] < 5: # Cambiamos \"banano\" a \"alimento\"\n",
        "        etiqueta_calorias = \"SIN CALORÍAS\"\n",
        "    elif alimento[\"calorias\"] < 40: # Cambiamos \"banano\" a \"alimento\"\n",
        "        etiqueta_calorias = \"BAJO EN CALORÍAS\"\n",
        "    else:\n",
        "        etiqueta_calorias = None\n",
        "    print(etiqueta_calorias)"
      ],
      "metadata": {
        "id": "n4n-6mzMQ4GL"
      },
      "execution_count": null,
      "outputs": []
    },
    {
      "cell_type": "code",
      "source": [
        "asignar_etiquetas_calorias(banano)"
      ],
      "metadata": {
        "colab": {
          "base_uri": "https://localhost:8080/"
        },
        "id": "zdq_1i2FRArq",
        "outputId": "d823a681-6a8b-4ca2-90f0-995a1eb8e464"
      },
      "execution_count": null,
      "outputs": [
        {
          "output_type": "stream",
          "name": "stdout",
          "text": [
            "None\n"
          ]
        }
      ]
    },
    {
      "cell_type": "markdown",
      "source": [
        "####Ejercicio 3"
      ],
      "metadata": {
        "id": "g5BwXeIgRbFa"
      }
    },
    {
      "cell_type": "code",
      "source": [
        "def asignar_etiqueta_calorias(alimento):\n",
        "    \"\"\"\n",
        "    Asigna una etiqueta de calorías de acuerdo a las reglas de la FDA.\n",
        "\n",
        "    Argumentos:\n",
        "    alimento: Un dicccionario Python que tiene al menos una llave \"calorías\".\n",
        "\n",
        "    Salida:\n",
        "    Sin salidas. Esta funcion simplemente imprime la etiqueta.\n",
        "    \"\"\"\n",
        "    if alimento[\"calorias\"] < 5:\n",
        "        etiqueta_calorias = \"SIN CALORÍAS\"\n",
        "    elif alimento[\"calorias\"] < 40:\n",
        "        etiqueta_calorias = \"BAJO EN CALORÍAS\"\n",
        "    else:\n",
        "        etiqueta_calorias = None\n",
        "    print(etiqueta_calorias)"
      ],
      "metadata": {
        "id": "3L6Fz73qRYIC"
      },
      "execution_count": null,
      "outputs": []
    },
    {
      "cell_type": "code",
      "source": [
        " help(asignar_etiqueta_calorias)"
      ],
      "metadata": {
        "colab": {
          "base_uri": "https://localhost:8080/"
        },
        "id": "8jGmROG-Rjka",
        "outputId": "e4971bd7-3bfb-4e0c-9e8a-6b773d007858"
      },
      "execution_count": null,
      "outputs": [
        {
          "output_type": "stream",
          "name": "stdout",
          "text": [
            "Help on function asignar_etiqueta_calorias in module __main__:\n",
            "\n",
            "asignar_etiqueta_calorias(alimento)\n",
            "    Asigna una etiqueta de calorías de acuerdo a las reglas de la FDA.\n",
            "    \n",
            "    Argumentos:\n",
            "    alimento: Un dicccionario Python que tiene al menos una llave \"calorías\".\n",
            "    \n",
            "    Salida:\n",
            "    Sin salidas. Esta funcion simplemente imprime la etiqueta.\n",
            "\n"
          ]
        }
      ]
    },
    {
      "cell_type": "code",
      "source": [
        "etiqueta_caloria_tomate = asignar_etiqueta_calorias(tomate)\n",
        "etiqueta_caloria_banano = asignar_etiqueta_calorias(banano)"
      ],
      "metadata": {
        "colab": {
          "base_uri": "https://localhost:8080/"
        },
        "id": "Vs8Wd_QjUeEC",
        "outputId": "252e9ae5-4eee-4eda-d32f-03831bf02a0e"
      },
      "execution_count": null,
      "outputs": [
        {
          "output_type": "stream",
          "name": "stdout",
          "text": [
            "BAJO EN CALORÍAS\n",
            "None\n"
          ]
        }
      ]
    },
    {
      "cell_type": "code",
      "source": [
        "print(\"La etiqueta para tomate es\", etiqueta_caloria_tomate)##Debería dar bajo en calorías\n",
        "print(\"y la etiqueta para banano es\", etiqueta_caloria_banano)"
      ],
      "metadata": {
        "colab": {
          "base_uri": "https://localhost:8080/"
        },
        "id": "YiPnIwqPUlfg",
        "outputId": "8c15c852-ade0-4cef-96e3-e78bf4f2e80e"
      },
      "execution_count": null,
      "outputs": [
        {
          "output_type": "stream",
          "name": "stdout",
          "text": [
            "None\n",
            "y la etiqueta para banano es None\n"
          ]
        }
      ]
    },
    {
      "cell_type": "markdown",
      "source": [
        "####Ejercicio 4"
      ],
      "metadata": {
        "id": "HO7lPE5aW8rh"
      }
    },
    {
      "cell_type": "code",
      "source": [
        "##Definimos la función para grasa\n",
        "def asignar_etiqueta_grasa(alimento):\n",
        "    if alimento[\"grasa\"] < 0.5:\n",
        "        etiqueta_grasa = \"SIN GRASA\"\n",
        "    elif alimento[\"grasa\"] < 3:\n",
        "        etiqueta_grasa = \"BAJO EN GRASA\"\n",
        "    else:\n",
        "        etiqueta_grasa = None\n"
      ],
      "metadata": {
        "id": "kgLSHF_QVAdo"
      },
      "execution_count": null,
      "outputs": []
    },
    {
      "cell_type": "code",
      "source": [
        "print(asignar_etiqueta_grasa(tomate))"
      ],
      "metadata": {
        "colab": {
          "base_uri": "https://localhost:8080/"
        },
        "id": "IcQeLdQFXImC",
        "outputId": "9ab5efac-5a30-4f2e-93fd-d47699a378aa"
      },
      "execution_count": null,
      "outputs": [
        {
          "output_type": "stream",
          "name": "stdout",
          "text": [
            "None\n"
          ]
        }
      ]
    },
    {
      "cell_type": "markdown",
      "source": [
        "####Ejercicio 5"
      ],
      "metadata": {
        "id": "J6OVJGHjXfuh"
      }
    },
    {
      "cell_type": "code",
      "source": [
        "##Modificamos la función\n",
        "def asignar_etiqueta_grasa(alimento):\n",
        "    if alimento[\"grasa\"] < 500:\n",
        "        etiqueta_grasa = \"SIN GRASA\"\n",
        "    elif alimento[\"grasa\"] < 3000:\n",
        "        etiqueta_grasa = \"BAJO EN GRASA\"\n",
        "    else:\n",
        "        etiqueta_grasa = None"
      ],
      "metadata": {
        "id": "2T_LHvZGXe8n"
      },
      "execution_count": null,
      "outputs": []
    },
    {
      "cell_type": "code",
      "source": [
        "print(asignar_etiqueta_grasa(tomate))"
      ],
      "metadata": {
        "colab": {
          "base_uri": "https://localhost:8080/"
        },
        "id": "cCzfObNPXxTk",
        "outputId": "12115554-bb1e-45e9-e1ad-8a5d84bcf9b6"
      },
      "execution_count": null,
      "outputs": [
        {
          "output_type": "stream",
          "name": "stdout",
          "text": [
            "None\n"
          ]
        }
      ]
    },
    {
      "cell_type": "code",
      "source": [
        "def asignar_etiqueta_azucar(alimento):\n",
        "\n",
        "    if alimento[\"azucar\"] < 0.5:\n",
        "        etiqueta_azucar = \"LIBRE DE AZÚCAR\"\n",
        "    else:\n",
        "        etiqueta_azucar = None\n",
        "    return etiqueta_azucar"
      ],
      "metadata": {
        "id": "i3z-k-sDYdBo"
      },
      "execution_count": null,
      "outputs": []
    },
    {
      "cell_type": "code",
      "source": [
        "print(asignar_etiqueta_azucar(banano))"
      ],
      "metadata": {
        "colab": {
          "base_uri": "https://localhost:8080/"
        },
        "id": "OD-VAco4Yf8A",
        "outputId": "1b28d442-e40c-4df3-9200-70589548d68d"
      },
      "execution_count": null,
      "outputs": [
        {
          "output_type": "stream",
          "name": "stdout",
          "text": [
            "None\n"
          ]
        }
      ]
    }
  ]
}