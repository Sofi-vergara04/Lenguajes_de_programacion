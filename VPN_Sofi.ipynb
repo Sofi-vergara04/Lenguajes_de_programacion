{
  "nbformat": 4,
  "nbformat_minor": 0,
  "metadata": {
    "colab": {
      "provenance": []
    },
    "kernelspec": {
      "name": "python3",
      "display_name": "Python 3"
    },
    "language_info": {
      "name": "python"
    }
  },
  "cells": [
    {
      "cell_type": "markdown",
      "source": [
        "#Valor presente neto\n",
        "##Explicación"
      ],
      "metadata": {
        "id": "Za30zBSljNYa"
      }
    },
    {
      "cell_type": "markdown",
      "source": [
        "se utiliza para evaluar inversiones actuales o potenciales y te permite calcular el rendimiento de inversión (ROI) esperado, fundamental para tener visibilidad de las finanzas del negocio.\n"
      ],
      "metadata": {
        "id": "B14h7kAsi9pO"
      }
    },
    {
      "cell_type": "markdown",
      "source": [
        "#formula VPN"
      ],
      "metadata": {
        "id": "xQXvQQ09jpVv"
      }
    },
    {
      "cell_type": "markdown",
      "source": [
        "$$VPN = \\sum_{t=0}^{n} \\frac{F_t}{(1 + r)^t} - I$$"
      ],
      "metadata": {
        "id": "BJZ-gHN9omhS"
      }
    },
    {
      "cell_type": "markdown",
      "source": [
        "##¿como calcular el VPN?\n",
        "1. _Define el periodo_\n",
        "\n",
        "Se refiere al número de periodos que dure el proyecto; generalmente es un año, pero también puede ser un mes, una semana o hasta un día.\n",
        "\n",
        "2. _Analiza el flujo de efectivo_\n",
        "\n",
        "Rastrea los flujos de efectivo y los flujos proyectados.\n",
        "\n",
        "3. _Ubica la tasa de descuento_\n",
        "\n",
        "La tasa de descuento que se utiliza depende de la empresa y de cómo obtiene su financiamiento; por ejemplo, si los accionistas esperan un rendimiento de la inversión del 10 %, la empresa utilizará ese porcentaje como tasa de descuento.\n",
        "\n",
        "4. _Aplica la fórmula y evalúa la rentabilidad del proyecto_\n",
        "\n",
        "Ahora que tienes todos los datos necesarios, aplica la fórmula antes vista. Si el valor actual presente es positivo, el proyecto es rentable. En cambio, si el VPN es negativo, el proyecto no es rentable. Al comparar varios proyectos, el que tenga mayor VPN proporcionará el mayor rendimiento."
      ],
      "metadata": {
        "id": "mTRUJ6CGid1V"
      }
    },
    {
      "cell_type": "markdown",
      "source": [
        "#Ejercicio pratico para el calculo del VPN\n",
        "Suponga que una empresa está considerando un proyecto con una inversion inicial de 100 y espera recibir flujos de caja de 20 en los proximos 4 años. La tasa de descuento es del 2%\n"
      ],
      "metadata": {
        "id": "Eawft9v8kxT_"
      }
    },
    {
      "cell_type": "code",
      "source": [
        "inversion_inicial=100\n",
        "flujo_año1=20\n",
        "flujo_año2=20\n",
        "flujo_año3=20\n",
        "flujo_año4=20\n",
        "flujo_año5=20\n",
        "tasa=0.02"
      ],
      "metadata": {
        "id": "fYP7tRNxk_06"
      },
      "execution_count": null,
      "outputs": []
    },
    {
      "cell_type": "code",
      "source": [
        "VPN = (flujo_año1/(1+tasa)**1)+(flujo_año2/(1+tasa)**2)+(flujo_año3/(1+tasa)**3)+(flujo_año4/(1+tasa)**4)+(flujo_año5/(1+tasa)**5)-inversion_inicial\n",
        "mensaje=f\"el VPN para su inversion es de: {VPN:,.4f}\"\n",
        "print(mensaje)\n"
      ],
      "metadata": {
        "colab": {
          "base_uri": "https://localhost:8080/"
        },
        "id": "RzDM5ALUmB9t",
        "outputId": "a979a762-018a-43b7-dfaa-00dae7a84fcd"
      },
      "execution_count": null,
      "outputs": [
        {
          "output_type": "stream",
          "name": "stdout",
          "text": [
            "el VPN para su inversion es de: -5.7308\n"
          ]
        }
      ]
    },
    {
      "cell_type": "code",
      "source": [
        "print(\"Podemos conluir que\",end=\" \")\n",
        "\n",
        "if VPN > 0:\n",
        "  print(\"el proyecto es viable\")\n",
        "else:\n",
        "  print(\"el proyecto no es viable\")\n"
      ],
      "metadata": {
        "colab": {
          "base_uri": "https://localhost:8080/"
        },
        "id": "xmD952d5ngVV",
        "outputId": "ab7b91d8-8b55-411d-86c5-086501df998f"
      },
      "execution_count": null,
      "outputs": [
        {
          "output_type": "stream",
          "name": "stdout",
          "text": [
            "Podemos conluir que el proyecto no es viable\n"
          ]
        }
      ]
    }
  ]
}